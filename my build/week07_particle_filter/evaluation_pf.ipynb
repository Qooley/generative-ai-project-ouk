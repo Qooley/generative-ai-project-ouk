{
 "cells": [
  {
   "cell_type": "markdown",
   "id": "2ff1822a",
   "metadata": {},
   "source": [
    "# PF Evaluation — Week 7\n",
    "\n",
    "_Notebook scaffold_"
   ]
  },
  {
   "cell_type": "code",
   "execution_count": null,
   "id": "6203ea79",
   "metadata": {},
   "outputs": [],
   "source": [
    "# Your code here"
   ]
  }
 ],
 "metadata": {},
 "nbformat": 4,
 "nbformat_minor": 5
}
