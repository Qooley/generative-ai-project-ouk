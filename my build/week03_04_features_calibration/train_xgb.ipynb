{
 "cells": [
  {
   "cell_type": "markdown",
   "id": "a9af791a",
   "metadata": {},
   "source": [
    "# Train XGB — Week 3–4\n",
    "\n",
    "_Notebook scaffold_"
   ]
  },
  {
   "cell_type": "code",
   "execution_count": null,
   "id": "1848a4e4",
   "metadata": {},
   "outputs": [],
   "source": [
    "# Your code here"
   ]
  }
 ],
 "metadata": {},
 "nbformat": 4,
 "nbformat_minor": 5
}
