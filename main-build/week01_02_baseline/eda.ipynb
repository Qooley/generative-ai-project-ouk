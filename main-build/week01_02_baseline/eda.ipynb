{
 "cells": [
  {
   "cell_type": "markdown",
   "id": "8930b22f",
   "metadata": {},
   "source": [
    "# EDA — Week 1–2\n",
    "\n",
    "_Notebook scaffold_"
   ]
  },
  {
   "cell_type": "code",
   "execution_count": null,
   "id": "e8552fd0",
   "metadata": {},
   "outputs": [],
   "source": [
    "# Your code here"
   ]
  }
 ],
 "metadata": {},
 "nbformat": 4,
 "nbformat_minor": 5
}
